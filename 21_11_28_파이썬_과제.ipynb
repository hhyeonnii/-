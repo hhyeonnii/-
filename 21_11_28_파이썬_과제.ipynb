{
  "nbformat": 4,
  "nbformat_minor": 0,
  "metadata": {
    "colab": {
      "name": "21_11_28 파이썬 과제",
      "provenance": [],
      "authorship_tag": "ABX9TyNr/w6JkxWuimo1tchMBBhL",
      "include_colab_link": true
    },
    "kernelspec": {
      "name": "python3",
      "display_name": "Python 3"
    },
    "language_info": {
      "name": "python"
    }
  },
  "cells": [
    {
      "cell_type": "markdown",
      "metadata": {
        "id": "view-in-github",
        "colab_type": "text"
      },
      "source": [
        "<a href=\"https://colab.research.google.com/github/hhyeonnii/python/blob/main/21_11_28_%ED%8C%8C%EC%9D%B4%EC%8D%AC_%EA%B3%BC%EC%A0%9C.ipynb\" target=\"_parent\"><img src=\"https://colab.research.google.com/assets/colab-badge.svg\" alt=\"Open In Colab\"/></a>"
      ]
    },
    {
      "cell_type": "code",
      "metadata": {
        "id": "ZaM59wbzzRSM"
      },
      "source": [
        "연산자          뜻\n",
        "+              더하기\n",
        "-              빼기\n",
        "*              곱하기\n",
        "/              나누기\n",
        "%              왼쪽 나누기 오른쪽의 나머지\n",
        "==             같다\n",
        "!=             다르다\n",
        ">              왼쪽이 오른쪽보다 크다\n",
        ">=             왼쪽이 오른쪽보다 같거나 크다\n",
        "<              오른쪽이 왼쪽보다 크다\n",
        "<=             오른쪽이 왼쪽보다 같거나 크다\n",
        "=              왼쪽에 오른쪽을 대입"
      ],
      "execution_count": null,
      "outputs": []
    }
  ]
}