{
  "nbformat": 4,
  "nbformat_minor": 0,
  "metadata": {
    "colab": {
      "name": "Untitled1.ipynb",
      "provenance": [],
      "authorship_tag": "ABX9TyOjrCKRzWdMJH/mbtE7QC1f",
      "include_colab_link": true
    },
    "kernelspec": {
      "name": "python3",
      "display_name": "Python 3"
    },
    "language_info": {
      "name": "python"
    }
  },
  "cells": [
    {
      "cell_type": "markdown",
      "metadata": {
        "id": "view-in-github",
        "colab_type": "text"
      },
      "source": [
        "<a href=\"https://colab.research.google.com/github/hhyeonnii/-/blob/main/Untitled1.ipynb\" target=\"_parent\"><img src=\"https://colab.research.google.com/assets/colab-badge.svg\" alt=\"Open In Colab\"/></a>"
      ]
    },
    {
      "cell_type": "code",
      "metadata": {
        "colab": {
          "base_uri": "https://localhost:8080/"
        },
        "id": "rzQhMvjtIh-2",
        "outputId": "69c73b3d-53c0-4bd4-a631-13ed5bb84418"
      },
      "source": [
        "score=int(input('성적을 입력하시오:'))\n",
        "if score>=90:\n",
        "  grade='A'\n",
        "elif score>=80:\n",
        "  grade='B'\n",
        "elif score>=70:\n",
        "  grade+'C'\n",
        "elif score>=60:\n",
        "  grade+'D'\n",
        "\n",
        "print('등급:', grade)"
      ],
      "execution_count": 7,
      "outputs": [
        {
          "output_type": "stream",
          "name": "stdout",
          "text": [
            "성적을 입력하시오:90\n",
            "등급: A\n"
          ]
        }
      ]
    }
  ]
}