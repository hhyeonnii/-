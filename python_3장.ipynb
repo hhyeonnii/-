{
  "nbformat": 4,
  "nbformat_minor": 0,
  "metadata": {
    "colab": {
      "name": "python 3장",
      "provenance": [],
      "authorship_tag": "ABX9TyMWdytj+h8a20bbb5/0llta",
      "include_colab_link": true
    },
    "kernelspec": {
      "name": "python3",
      "display_name": "Python 3"
    },
    "language_info": {
      "name": "python"
    }
  },
  "cells": [
    {
      "cell_type": "markdown",
      "metadata": {
        "id": "view-in-github",
        "colab_type": "text"
      },
      "source": [
        "<a href=\"https://colab.research.google.com/github/hhyeonnii/python/blob/main/python_3%EC%9E%A5.ipynb\" target=\"_parent\"><img src=\"https://colab.research.google.com/assets/colab-badge.svg\" alt=\"Open In Colab\"/></a>"
      ]
    },
    {
      "cell_type": "code",
      "execution_count": null,
      "metadata": {
        "id": "O0_QgxxicQl3"
      },
      "outputs": [],
      "source": [
        "#1.사용자로부터 두 개의 정수를 받아 정수의 합, 정수의 차, 정수의 곱, 정수의 평균, 큰 수, 작은 수를 계산하여 화면에 출력하는 프로그램을 작성하라.\n",
        "x=int(input('x: '))\n",
        "y=int(input('y: '))\n",
        "print('두 수의 합: ', x+y)\n",
        "print('두 수의 차: ', x-y)\n",
        "print('두 수의 곱: ', x*y)\n",
        "print('두 수의 평균: ', (x+y)/2)\n",
        "print('큰 수: ', max(x, y))\n",
        "print('작은 수: ', min(x, y))\n",
        "#2.원기둥의 부피를 계산하는 프로그램을 작성해보자.\n",
        "r=float(input('r: '))\n",
        "h=float(input('h: '))\n",
        "vol+3.141592*r**2*h\n",
        "print('원기둥의 부피: ', vol)\n",
        "#3.사용자로부터 정수를 받아서 정수의 자리수의 합을 계산하는 프로그램을 작성해보자.\n",
        "numbe4r+int(input('정수를 입력하시오: '))\n",
        "sum=0\n",
        "sum=sum+number%10\n",
        "number=number//10\n",
        "sum=sum+number%10\n",
        "number=number//10\n",
        "sum=sum+number%10\n",
        "number=number//10\n",
        "sum=sum+number%10\n",
        "number=number//10\n",
        "print('자리수의 합: ', str(sum))\n",
        "#4.사용자로부터 두 점의 좌표를 입력받아서 두 점 사이의 거리를 계산하는 프로그램을 작성해보자.\n",
        "x1=int(input('x1: '))\n",
        "y1=int(input('y1: '))\n",
        "x2=int(input('x2: '))\n",
        "y2=int(input('y2: '))\n",
        "dist=((x2-x1)**2+(y2-y1)**2)**0.5\n",
        "print('두 점 사이의 거리=', dist)\n",
        "#5.1번 문제에서 계산한 거리가 맞는지, 터틀 그래픽으로 확인해보자.\n",
        "import math\n",
        "x1=int(input('x1: '))\n",
        "y1=int(input('y1: '))\n",
        "x2=int(input('x2: '))\n",
        "y2=int(input('y2: '))\n",
        "dist=((x2-x1)**2+(y2-y1)**2)**0.5\n",
        "print('두 점 사이의 거리=', dist)\n",
        "import turtle\n",
        "t=turtle.Turtle()\n",
        "t.shape('turtle')\n",
        "t.left(45)\n",
        "t.forward(141)\n",
        "t.setheading(0)\n",
        "t.forward(100)\n",
        "t.left(90)\n",
        "t.forward(100)\n",
        "t._screen.exitonclick()\n",
        "#6.사용자로부터 두 점을 입력받아서 터틀 그래픽을 이용하여 두 점을 연결하는 직선을 그린다. 직선의 끝점에 직선의 길이를 출력해보자.\n",
        "inport turtle\n",
        "t=turtle.Turtle()\n",
        "t.shape('turtle')\n",
        "x1=int(input('x1: '))\n",
        "y1=int(input('y1: '))\n",
        "x2=int(input('x2: '))\n",
        "y2=int(input('y2: '))\n",
        "dist=((x2-x1)**2+(y2-y1)**2)**0.5\n",
        "t.up()\n",
        "t.goto(x1, y1)\n",
        "t.down()\n",
        "t.goto(x2, y2)\n",
        "t.write('점의 길이='+str(dist))\n",
        "t._screen.exitonclick()\n",
        "#7.적절하게 나누거나 나머지를 구해서 현재 시간의 시와 분을 계산할 수 있을까?\n",
        "import time\n",
        "fseconds=time.time()\n",
        "total_sec=int(fseconds)\n",
        "total_min=total_sec//60\n",
        "minute=total_min%60\n",
        "total_hour=total_min//60\n",
        "hour+total_hour%24\n",
        "print('현재 시간(영국 그리니치 시각): '+str(hour)+'시'+str(minute)+'분')\n",
        "#8.움직이는 물체의 운동에너지를 계산해보자.\n",
        "mass=float(input('물체이 무게를 입력하시오(킬로그램): '))\n",
        "velocity=float(input('믈체의 속도를 입력하시오(미터/초): '))\n",
        "energy=0.5*mass*velocity**2\n",
        "print('물체는'+str(energy)+'(줄)의 에너지를 가지고 있다.')"
      ]
    }
  ]
}