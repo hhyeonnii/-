{
  "nbformat": 4,
  "nbformat_minor": 0,
  "metadata": {
    "colab": {
      "name": "python 1장",
      "provenance": [],
      "authorship_tag": "ABX9TyOxE9VtV0cS2mT2Gkw5/Shi",
      "include_colab_link": true
    },
    "kernelspec": {
      "name": "python3",
      "display_name": "Python 3"
    },
    "language_info": {
      "name": "python"
    }
  },
  "cells": [
    {
      "cell_type": "markdown",
      "metadata": {
        "id": "view-in-github",
        "colab_type": "text"
      },
      "source": [
        "<a href=\"https://colab.research.google.com/github/hhyeonnii/python/blob/main/python_1%EC%9E%A5.ipynb\" target=\"_parent\"><img src=\"https://colab.research.google.com/assets/colab-badge.svg\" alt=\"Open In Colab\"/></a>"
      ]
    },
    {
      "cell_type": "code",
      "metadata": {
        "id": "qxIKe2EZ3qlS"
      },
      "source": [
        "#1.\"환영합니다\",\"파이썬의 세계에 오신 것을 환영합니다\",\"파이썬은 강력합니다\"를 화면에 출력하는 프로그램을 작성하시오.\n",
        "print('환영합니다')\n",
        "print('파이썬의 세계에 오신 것을 환영합니다')\n",
        "print('파이썬은 강력합니다')\n",
        "#2. 다음 프로그램의 실행 결과를 쓰시오.\n",
        "#print('반갑습니다. 파이썬!')\n",
        "#print(2*3/10)\n",
        "#print('Hello','World','!!!')\n",
        "반갑습니다. 파이썬!\n",
        "0.6\n",
        "Hello World !!!\n",
        "#3. 파이썬 쉘을 사용하여 한 주가 몇 시간에 해당하는지 계산해보자.\n",
        "print(7*24)\n",
        "168\n",
        "#4. 터틀 그래픽에서 거북이를 이동시켜서 다음과 같은 그림을 그려보자.\n",
        "import turtle\n",
        "t=turtle.Turtle()\n",
        "t.shape('turtle')\n",
        "t.forward(100);\n",
        "t.left(90)\n",
        "t.forward(100);\n",
        "t.right(90)\n",
        "t.forward(100);\n",
        "t.right(90)\n",
        "t.forward(100);\n",
        "t.left(90)\n",
        "t.forward(100);\n",
        "exitonclick()\n",
        "#5. 터틀 그래픽에서 width()함수를 호출하면 거북이가 그리는 선의 두께를 두껍게 한다. 거북이를 이동하여서 다음과 같이 두께가 10인 선을 그려보자.\n",
        "import turtle\n",
        "t=turtle.Turtle()\n",
        "t.shape('turtle')\n",
        "t.width(10)\n",
        "t.forward(100)\n",
        "t.left(90)\n",
        "t.forward(100)\n",
        "t._screen.exitonclick()\n",
        "#6. 터틀 그래픽에서 색상을 파란색으로 변경하여서 다음과 같이 길이가 100픽셀인 선을 그려보자.\n",
        "import turtle\n",
        "t=turtle.Turtle()\n",
        "t.shape('turtle')\n",
        "t.color('blue')\n",
        "t.forward(100)\n",
        "t._screen.exitonclick()\n",
        "#7. 터틀 그래픽에서 사각형으로 변경하고 100픽셀 길이의 직선을 그려보자.\n",
        "import turtle\n",
        "t=turtle.Turtle()\n",
        "t.shape('turtle')\n",
        "t.shape('square')\n",
        "t.forward(100)\n",
        "t._screen.exitonclick()\n",
        "#8. 터틀 그래픽에서 명령어를 조합하여 다음과 같은 그림을 그려보자.\n",
        "import turtle\n",
        "t=turtle.Turtle()\n",
        "t.shape('turtle')\n",
        "up()\n",
        "goto(0,0)\n",
        "down()\n",
        "forward(100);\n",
        "up()\n",
        "goto(0,100)\n",
        "forward(100);\n",
        "exitonclick()\n",
        "#9. 터틀 그래픽에서 명령어를 조합하여 화면에 오륜기를 그리는 프로그램을 작성해보자.\n",
        "import turtle\n",
        "t=turtle.Turtle()\n",
        "t.shape('turtle')\n",
        "t.up(); t.goto(-150,0); t.down(); t.circle(80)\n",
        "t.up(); t,goto(0,0); t.down(); t.circle(80)\n",
        "t.up(); t,goto(150,0); t.down(); t.circle(80)\n",
        "t.up(); t,goto(-80,-100); t.down(); t.circle(80)\n",
        "t.up(); t,goto(80,-100); t.down(); t.circle(80)\n",
        "t._screen.exitonclick()"
      ],
      "execution_count": null,
      "outputs": []
    }
  ]
}