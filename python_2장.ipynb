{
  "nbformat": 4,
  "nbformat_minor": 0,
  "metadata": {
    "colab": {
      "name": "python 2장",
      "provenance": [],
      "authorship_tag": "ABX9TyOg/FaCb6xW2lWp2z99XeHW",
      "include_colab_link": true
    },
    "kernelspec": {
      "name": "python3",
      "display_name": "Python 3"
    },
    "language_info": {
      "name": "python"
    }
  },
  "cells": [
    {
      "cell_type": "markdown",
      "metadata": {
        "id": "view-in-github",
        "colab_type": "text"
      },
      "source": [
        "<a href=\"https://colab.research.google.com/github/hhyeonnii/python/blob/main/python_2%EC%9E%A5.ipynb\" target=\"_parent\"><img src=\"https://colab.research.google.com/assets/colab-badge.svg\" alt=\"Open In Colab\"/></a>"
      ]
    },
    {
      "cell_type": "code",
      "execution_count": null,
      "metadata": {
        "id": "8o4u2f50--mR"
      },
      "outputs": [],
      "source": [
        "#1.사용자한테 이름과 나이를 입력하게 한다. 사용자가 100살이 되는 연도를 화면에 출력하는 프로그램을 작성하라.\n",
        "name=input('이름을 입력하시오:')\n",
        "age=int(input('나이를 입력하시오:'))\n",
        "year=2021-age+100\n",
        "print(name+'씨는'+str(year)+'년에 100살이시네요!')\n",
        "#2.사용자로부터 3개의 숫자를 받아서 평균을 계산하고 결과를 출력하는 프로그램을 작성하라.\n",
        "n1=int(input('첫 번째 숫자를 입력하시오: '))\n",
        "n2=int(input('두 번째 숫자를 입력하시오: '))\n",
        "n3=int(input('세 번째 숫자를 입력하시오: '))\n",
        "average=(n1+n2+n3)/3\n",
        "print(n1, n2, n3,'의 평균은',average,'입니다.')\n",
        "#3.사용자로부터 원의 반지름을 입력받아서 원의 변적을 계산하는 프로그램을 작성해보자.\n",
        "radius=int(input('반지름을 입력하시오:'))\n",
        "area=3.141592*radius*radius\n",
        "print('반지름이', radius, '인 원의 넓이=', area'입니다.')\n",
        "#4.원을 3개 그려보자.\n",
        "import turtle\n",
        "t=turtle.Turtle()\n",
        "t.shape('turtle')\n",
        "radius=50\n",
        "t.up()\n",
        "t.goto(0,0)\n",
        "t.down()\n",
        "t.circle(radius)\n",
        "radius=radius+20\n",
        "t,up()\n",
        "t.goto(100,0)\n",
        "t.circle(radius)\n",
        "radius=radius+20\n",
        "t.up()\n",
        "t.goto(200,0)\n",
        "t.down()\n",
        "t.circle(radius)\n",
        "t._screen.exitonclick()\n",
        "#5.삼각형을 그려보자.\n",
        "import turtle\n",
        "t=turtle.Turtle()\n",
        "t.shape('turtle')\n",
        "side=50\n",
        "t.forward(side)\n",
        "t.left(120)\n",
        "t.forward(side)\n",
        "t.left(120)\n",
        "t.forward(side)\n",
        "t.left(120)\n",
        "t,_screen.exitonclick()\n",
        "#6.만약 우리가 삼각형 한 변의 길이를 200으로 변경한다고 하자. 5번 코드에서 어디만 수정하면 되는가?\n",
        "import turtle\n",
        "t=turtle.Turtle()\n",
        "t.shape('turtle')\n",
        "side=200\n",
        "t.forward(side)\n",
        "t.left(120)\n",
        "t.forward(side)\n",
        "t.left(120)\n",
        "t.forward(side)\n",
        "t.left(120)\n",
        "t,_screen.exitonclick()\n",
        "#7.다음과 같은 그림을 그리는 프로그램을 작성하시오.\n",
        "import turlte\n",
        "t=turtle.Turtle()\n",
        "t.shape('turtle')\n",
        "side=50\n",
        "angle=90\n",
        "t.forward(side); t.right(angle); t.forward(side); t.right(angle); t.forward(side); t.right(angle); t.forward(side)\n",
        "t.forward(side); t.right(angle); t.forward(side); t.right(angle); t.forward(side); t.right(angle); t,forward(100); t.right(180)\n",
        "t.forward(side); t.right(angle); t.forward(side); t.right(angle); t.forward(side); t.right(angle); t.forward(side)\n",
        "t.forward(side); t.right(angle); t.forward(side); t.right(angle); t.forward(side); t.write('닫으려면 화면 클릭'); t.screen.exitonclick()"
      ]
    }
  ]
}