{
  "nbformat": 4,
  "nbformat_minor": 0,
  "metadata": {
    "colab": {
      "name": "21_11_22  python 수업 과제",
      "provenance": [],
      "authorship_tag": "ABX9TyNSSmBs8Orx/NrcgGO39j4k",
      "include_colab_link": true
    },
    "kernelspec": {
      "name": "python3",
      "display_name": "Python 3"
    },
    "language_info": {
      "name": "python"
    }
  },
  "cells": [
    {
      "cell_type": "markdown",
      "metadata": {
        "id": "view-in-github",
        "colab_type": "text"
      },
      "source": [
        "<a href=\"https://colab.research.google.com/github/hhyeonnii/python/blob/main/21_11_22_python_%EC%88%98%EC%97%85_%EA%B3%BC%EC%A0%9C.ipynb\" target=\"_parent\"><img src=\"https://colab.research.google.com/assets/colab-badge.svg\" alt=\"Open In Colab\"/></a>"
      ]
    },
    {
      "cell_type": "code",
      "metadata": {
        "id": "1XcltCnNCduk"
      },
      "source": [
        "age=20\n",
        "if age<20:\n",
        "  print('20살 미만')\n",
        "else:\n",
        "  print('20살 이상')\n",
        "\n",
        "age=20\n",
        "if age>=20 and age<=50:\n",
        "  print('20살 이상이고 50살 이하')\n",
        "\n",
        "temp=int(input('현재 온도를 입력하시오:'))\n",
        "if temp>=25:\n",
        "  print('반바지를 입으세요')\n",
        "else:\n",
        "  print('긴바지를 입으세요')\n",
        "\n",
        "score=int(input('성적을 입력하시오:'))\n",
        "if score>=90:\n",
        "  print('A학점입니다')\n",
        "elif score>=80:\n",
        "  print('B학점입니다')\n",
        "elif score>=70:\n",
        "  print('C학점입니다')\n",
        "elif score>=60:\n",
        "  print('D학점입니다')\n",
        "else:\n",
        "  print('F학점입니다')\n",
        "\n",
        "import random\n",
        "x=random.randint(1, 100)\n",
        "y=random.randint(1,100)\n",
        "ans=int(input(str(x)+'-'+str(y)+'='))\n",
        "if ans==x-y:\n",
        "  print('맞았습니다')\n",
        "else:\n",
        "  print('틀렸습니다')\n",
        "\n",
        "n=int(input('점수를 입력하시오'))\n",
        "if n%2==0 and n%3==0:\n",
        "  print('2와 3으로 나누어 떨어집니다')\n",
        "else:\n",
        "  print('2와 3으로 나누어 떨어지지 않습니다')\n",
        "\n",
        "for i in raange(2, 101):\n",
        "  if 1%2==0:\n",
        "    print(1, and=\"\")"
      ],
      "execution_count": null,
      "outputs": []
    }
  ]
}