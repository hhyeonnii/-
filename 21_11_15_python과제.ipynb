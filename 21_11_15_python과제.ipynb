{
  "nbformat": 4,
  "nbformat_minor": 0,
  "metadata": {
    "colab": {
      "name": "21.11.15  python과제",
      "provenance": [],
      "authorship_tag": "ABX9TyOHJW4c8pNo+RVqXRgWOjC8",
      "include_colab_link": true
    },
    "kernelspec": {
      "name": "python3",
      "display_name": "Python 3"
    },
    "language_info": {
      "name": "python"
    }
  },
  "cells": [
    {
      "cell_type": "markdown",
      "metadata": {
        "id": "view-in-github",
        "colab_type": "text"
      },
      "source": [
        "<a href=\"https://colab.research.google.com/github/hhyeonnii/python/blob/main/21_11_15_python%EA%B3%BC%EC%A0%9C.ipynb\" target=\"_parent\"><img src=\"https://colab.research.google.com/assets/colab-badge.svg\" alt=\"Open In Colab\"/></a>"
      ]
    },
    {
      "cell_type": "code",
      "metadata": {
        "id": "Uli8QsFcQwDI"
      },
      "source": [
        "score=int(input('성적을 입력하시오;'))\n",
        "\n",
        "if score>=90:\n",
        "  print('A학점입니다')\n",
        "elif score>=80:\n",
        "  print('B학점입니다')\n",
        "elif score>=70:\n",
        "  print('C학점입니다')\n",
        "elif score>=60:\n",
        "  print('D학점입니다')\n",
        "elif:\n",
        "  print('F학점입니다')"
      ],
      "execution_count": null,
      "outputs": []
    }
  ]
}